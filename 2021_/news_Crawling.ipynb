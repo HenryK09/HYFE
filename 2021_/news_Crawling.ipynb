{
 "cells": [
  {
   "cell_type": "code",
   "execution_count": 2,
   "id": "d8c92084",
   "metadata": {},
   "outputs": [],
   "source": [
    "import os\n",
    "import sys\n",
    "import time\n",
    "from datetime import datetime\n",
    "\n",
    "import pandas as pd\n",
    "from PyQt5 import uic\n",
    "from PyQt5.QtCore import *\n",
    "from PyQt5.QtGui import *\n",
    "from PyQt5.QtWidgets import *\n",
    "import traceback"
   ]
  },
  {
   "cell_type": "code",
   "execution_count": 3,
   "id": "1a948bb7",
   "metadata": {},
   "outputs": [],
   "source": [
    "ui = uic.loadUiType(\"C:/Users/qhgus/OneDrive/바탕 화면/HYFE/2학기/20211129_newsCrawl/new.ui\")[0]\n",
    "root_path = \"뉴스데이터/\""
   ]
  },
  {
   "cell_type": "code",
   "execution_count": 4,
   "id": "52055229",
   "metadata": {},
   "outputs": [],
   "source": [
    "class MyWindow(QMainWindow, ui):\n",
    "    def __init__(self):\n",
    "        super().__init__()\n",
    "        self.setupUi(self)\n",
    "        self.qt_load_data.clicked.connect(self.load_data)\n",
    "        self.qt_table.horizontalHeader().setStretchLastSection(True)\n",
    "        self.qt_table.horizontalHeader().setSectionResizeMode(QHeaderView.Stretch)\n",
    "        self.qt_search_but.clicked.connect(self.search)\n",
    "\n",
    "\n",
    "    def load_data(self):\n",
    "        global df\n",
    "        date_ = self.qt_date.text()\n",
    "        try:\n",
    "            df = pd.read_csv(f\"뉴스데이터/[1W]News_{date_}.csv\", index_col=0)\n",
    "        except Exception:\n",
    "            QMessageBox.warning(self, 'Error',\n",
    "                                'Invalid Date',\n",
    "                                QMessageBox.Ok)\n",
    "        else:\n",
    "            self.qt_table.setRowCount(0)\n",
    "            self.qt_table.setRowCount(len(df))\n",
    "            for i in range(self.qt_table.columnCount()):\n",
    "                for j in range(len(df)):\n",
    "                    qt_data = str(df.iloc[j][df.columns[i]])\n",
    "                    item = QTableWidgetItem(qt_data)  # 문자열을 Table Item 형식으로 전환\n",
    "                    item.setTextAlignment(Qt.AlignVCenter | Qt.AlignCenter)  #\n",
    "                    self.qt_table.setItem(j, i, item)\n",
    "            self.qt_table.resizeRowsToContents()\n",
    "\n",
    "    def search(self):\n",
    "        try:\n",
    "            name_ = self.qt_search_name.text()\n",
    "            df2 = df[df[df.columns[0]].apply(lambda x: name_ in x)]\n",
    "\n",
    "            self.qt_table.setRowCount(0)\n",
    "            self.qt_table.setRowCount(len(df2))\n",
    "            for i in range(self.qt_table.columnCount()):\n",
    "                for j in range(len(df2)):\n",
    "                    qt_data = str(df2.iloc[j][df2.columns[i]])\n",
    "                    item = QTableWidgetItem(qt_data)  # 문자열을 Table Item 형식으로 전환\n",
    "                    item.setTextAlignment(Qt.AlignVCenter | Qt.AlignCenter)  #\n",
    "                    self.qt_table.setItem(j, i, item)\n",
    "            self.qt_table.resizeRowsToContents()\n",
    "\n",
    "        except Exception:\n",
    "            print(traceback.format_exc())"
   ]
  },
  {
   "cell_type": "code",
   "execution_count": 5,
   "id": "2604d7db",
   "metadata": {},
   "outputs": [],
   "source": [
    "if __name__ == \"__main__\":\n",
    "    app = QApplication(sys.argv)\n",
    "    myWindow = MyWindow()\n",
    "    myWindow.show()\n",
    "    app.exec_()"
   ]
  }
 ],
 "metadata": {
  "kernelspec": {
   "display_name": "Python 3",
   "language": "python",
   "name": "python3"
  },
  "language_info": {
   "codemirror_mode": {
    "name": "ipython",
    "version": 3
   },
   "file_extension": ".py",
   "mimetype": "text/x-python",
   "name": "python",
   "nbconvert_exporter": "python",
   "pygments_lexer": "ipython3",
   "version": "3.8.8"
  }
 },
 "nbformat": 4,
 "nbformat_minor": 5
}
